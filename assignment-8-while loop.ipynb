{
 "cells": [
  {
   "cell_type": "markdown",
   "id": "5d482071-bc63-4d7f-ba80-84525c0ad751",
   "metadata": {},
   "source": [
    "**assignment-8-while loop**"
   ]
  },
  {
   "cell_type": "code",
   "execution_count": null,
   "id": "f6e650a5-012e-423d-b26e-ea53ccbce88f",
   "metadata": {},
   "outputs": [],
   "source": [
    "**question1**"
   ]
  },
  {
   "cell_type": "code",
   "execution_count": 1,
   "id": "7c2c4f3a-2747-4a40-b5b5-0fa2ce563f74",
   "metadata": {},
   "outputs": [],
   "source": [
    "import random"
   ]
  },
  {
   "cell_type": "code",
   "execution_count": 9,
   "id": "53ea251b-c774-4a25-b92a-4a1b095f4d61",
   "metadata": {},
   "outputs": [
    {
     "name": "stdout",
     "output_type": "stream",
     "text": [
      "11 is a odd number\n",
      "73 is a odd number\n",
      "60 is a even number\n"
     ]
    }
   ],
   "source": [
    "#for example \n",
    "#take a random number between 1 to 100\n",
    "#print it is a even number and odd number\n",
    "#you need to generate 3 random numbers\n",
    "i=1\n",
    "while i<4:\n",
    "    num=random.randint(1,100)\n",
    "    if num%2==0:\n",
    "        print(f\"{num} is a even number\")\n",
    "    else:\n",
    "        print(f\"{num} is a odd number\")\n",
    "    i=i+1"
   ]
  },
  {
   "cell_type": "code",
   "execution_count": null,
   "id": "72a9c424-8fc9-4bec-af31-9183f2d8185d",
   "metadata": {},
   "outputs": [],
   "source": [
    "**question2**"
   ]
  },
  {
   "cell_type": "code",
   "execution_count": 12,
   "id": "f65f47a7-9291-42ee-9550-bae154e14aec",
   "metadata": {},
   "outputs": [
    {
     "name": "stdout",
     "output_type": "stream",
     "text": [
      "10 is even\n",
      "11 is odd\n",
      "12 is even\n",
      "13 is odd\n",
      "14 is even\n",
      "15 is odd\n",
      "16 is even\n",
      "17 is odd\n",
      "18 is even\n",
      "19 is odd\n"
     ]
    }
   ],
   "source": [
    "#wap ask the user print number is even or odd between 10 to 20\n",
    "i=10\n",
    "while i<20:\n",
    "    if i%2==0:\n",
    "        print(f\"{i} is even\")\n",
    "    else:\n",
    "         print(f\"{i} is odd\")\n",
    "    i=i+1\n",
    "    "
   ]
  },
  {
   "cell_type": "code",
   "execution_count": null,
   "id": "905d5293-fb11-4d12-baa8-d93a4b1f2923",
   "metadata": {},
   "outputs": [],
   "source": [
    "**question3**"
   ]
  },
  {
   "cell_type": "code",
   "execution_count": 13,
   "id": "ef83a050-3c3b-4235-8d06-9e798b86db7f",
   "metadata": {},
   "outputs": [
    {
     "name": "stdout",
     "output_type": "stream",
     "text": [
      "400 is sqaure of 20\n",
      "441 is sqaure of 21\n",
      "484 is sqaure of 22\n",
      "529 is sqaure of 23\n",
      "576 is sqaure of 24\n",
      "625 is sqaure of 25\n"
     ]
    }
   ],
   "source": [
    "#wap ask the user print the square of the number between #20 to 25\n",
    "i=20\n",
    "while i<=25:\n",
    "    n=i*i\n",
    "    print(f\"{n} is sqaure of {i}\")\n",
    "    i=i+1\n",
    "\n"
   ]
  },
  {
   "cell_type": "code",
   "execution_count": 1,
   "id": "a9d7685b-26a5-4f63-92fe-4d0460e6f211",
   "metadata": {},
   "outputs": [
    {
     "name": "stdout",
     "output_type": "stream",
     "text": [
      "100 is sqaure of 10\n",
      "121 is sqaure of 11\n",
      "144 is sqaure of 12\n",
      "169 is sqaure of 13\n",
      "196 is sqaure of 14\n",
      "225 is sqaure of 15\n",
      "256 is sqaure of 16\n",
      "289 is sqaure of 17\n",
      "324 is sqaure of 18\n",
      "361 is sqaure of 19\n",
      "400 is sqaure of 20\n",
      "441 is sqaure of 21\n",
      "484 is sqaure of 22\n",
      "529 is sqaure of 23\n",
      "576 is sqaure of 24\n",
      "625 is sqaure of 25\n"
     ]
    }
   ],
   "source": [
    "#wap ask the user print the square of the number between #20 to 25\n",
    "i=10\n",
    "while i<=25:\n",
    "    n=i*i\n",
    "    print(f\"{n} is sqaure of {i}\")\n",
    "    i=i+1\n",
    "\n"
   ]
  },
  {
   "cell_type": "code",
   "execution_count": null,
   "id": "be81a970-7937-480b-8bc9-1839cca7597f",
   "metadata": {},
   "outputs": [],
   "source": [
    "**question4**"
   ]
  },
  {
   "cell_type": "code",
   "execution_count": 2,
   "id": "77d7cd81-d874-4fb9-b709-a77e32173d93",
   "metadata": {},
   "outputs": [
    {
     "name": "stdin",
     "output_type": "stream",
     "text": [
      "enter the number 34\n"
     ]
    },
    {
     "name": "stdout",
     "output_type": "stream",
     "text": [
      "1156 is the square of a 34\n"
     ]
    },
    {
     "name": "stdin",
     "output_type": "stream",
     "text": [
      "enter the number 23\n"
     ]
    },
    {
     "name": "stdout",
     "output_type": "stream",
     "text": [
      "529 is the square of a 23\n"
     ]
    },
    {
     "name": "stdin",
     "output_type": "stream",
     "text": [
      "enter the number 23\n"
     ]
    },
    {
     "name": "stdout",
     "output_type": "stream",
     "text": [
      "529 is the square of a 23\n"
     ]
    }
   ],
   "source": [
    "#wap ask the user enter number three times find the square of the number\n",
    "#how many times loop should run\n",
    "i=1\n",
    "while i<4:\n",
    "    num1=eval(input(\"enter the number\"))\n",
    "    z=num1*num1\n",
    "    print(f\"{z} is the square of a {num1}\")\n",
    "    i=i+1"
   ]
  },
  {
   "cell_type": "code",
   "execution_count": null,
   "id": "4ee704ad-bdc1-48e4-91d9-ad31bb0ea2f1",
   "metadata": {},
   "outputs": [],
   "source": [
    "**question-5**\n"
   ]
  },
  {
   "cell_type": "code",
   "execution_count": 6,
   "id": "9c0b946d-7d0f-4a21-b9ee-07677c74a0c1",
   "metadata": {},
   "outputs": [
    {
     "name": "stdin",
     "output_type": "stream",
     "text": [
      "enter the number 14\n"
     ]
    },
    {
     "name": "stdout",
     "output_type": "stream",
     "text": [
      "14x1=14\n",
      "14x2=28\n",
      "14x3=42\n",
      "14x4=56\n",
      "14x5=70\n",
      "14x6=84\n",
      "14x7=98\n",
      "14x8=112\n",
      "14x9=126\n",
      "14x10=140\n"
     ]
    }
   ],
   "source": [
    "i=1\n",
    "num2=eval(input(\"enter the number\"))\n",
    "while i<11:\n",
    "    x=num2*i\n",
    "    print(f\"{num2}x{i}={x}\")\n",
    "    i=i+1"
   ]
  },
  {
   "cell_type": "code",
   "execution_count": null,
   "id": "3fac27c5-fac9-4549-a74c-bc5b8df93903",
   "metadata": {},
   "outputs": [],
   "source": [
    "**question-6**"
   ]
  },
  {
   "cell_type": "code",
   "execution_count": null,
   "id": "2bbde199-3eb1-4da0-b187-4fe6fd2b63a5",
   "metadata": {},
   "outputs": [],
   "source": [
    "#wap find the factors of 75\n",
    "#step-1 iterate the loop= which  numbers factor you want\n",
    "#step-2: apply the if condition\n",
    "#  cond=divide the number with each i\n"
   ]
  },
  {
   "cell_type": "code",
   "execution_count": 9,
   "id": "ac8aa8b2-81e2-4341-a48e-5e95d56d946c",
   "metadata": {},
   "outputs": [
    {
     "name": "stdin",
     "output_type": "stream",
     "text": [
      "enter the number 75\n"
     ]
    },
    {
     "name": "stdout",
     "output_type": "stream",
     "text": [
      "the factor 75 is 1\n",
      "the factor 75 is 3\n",
      "the factor 75 is 5\n",
      "the factor 75 is 15\n",
      "the factor 75 is 25\n",
      "the factor 75 is 75\n"
     ]
    }
   ],
   "source": [
    "i=1\n",
    "n=0\n",
    "num2=eval(input(\"enter the number\"))\n",
    "while i<76:\n",
    "    if num2%i==0:\n",
    "        print(f\"the factor {num2} is {i}\")\n",
    "    i=i+1"
   ]
  },
  {
   "cell_type": "code",
   "execution_count": null,
   "id": "5f605cd0-2522-4bf2-b05b-bb2507be7ccf",
   "metadata": {},
   "outputs": [],
   "source": [
    "**question-7**\n"
   ]
  },
  {
   "cell_type": "code",
   "execution_count": 3,
   "id": "4f6ab412-7698-4cee-8a13-2a3bd9aee2da",
   "metadata": {},
   "outputs": [
    {
     "name": "stdout",
     "output_type": "stream",
     "text": [
      "1\n",
      "3\n",
      "6\n",
      "10\n",
      "15\n",
      "21\n",
      "28\n",
      "36\n",
      "45\n",
      "55\n"
     ]
    },
    {
     "data": {
      "text/plain": [
       "55"
      ]
     },
     "execution_count": 3,
     "metadata": {},
     "output_type": "execute_result"
    }
   ],
   "source": [
    "#write the sum of first 10 natural numberd\n",
    "#1 to 10\n",
    "i=1\n",
    "summ=0\n",
    "while i<11:\n",
    "    summ=summ+i\n",
    "    print(summ)\n",
    "    i=i+1\n",
    "summ"
   ]
  },
  {
   "cell_type": "code",
   "execution_count": null,
   "id": "bc1ffad0-113a-4100-a982-24fb28713214",
   "metadata": {},
   "outputs": [],
   "source": [
    "**question-8**"
   ]
  },
  {
   "cell_type": "code",
   "execution_count": 15,
   "id": "d17be2f7-6513-4fa9-9a29-15c30a639521",
   "metadata": {},
   "outputs": [
    {
     "name": "stdout",
     "output_type": "stream",
     "text": [
      "1\n",
      "3\n",
      "6\n",
      "10\n",
      "15\n",
      "21\n",
      "28\n",
      "36\n",
      "45\n",
      "55\n",
      "the average of fist 10 values is 5.5\n"
     ]
    }
   ],
   "source": [
    "summ=0\n",
    "i=1\n",
    "while i<11:\n",
    "    summ=summ+i\n",
    "    print(summ)\n",
    "    i=i+1\n",
    "avg=summ/10\n",
    "print(f\"the average of fist 10 values is {avg}\")"
   ]
  },
  {
   "cell_type": "code",
   "execution_count": null,
   "id": "7ecab705-9962-48b4-b30c-09305551f262",
   "metadata": {},
   "outputs": [],
   "source": [
    "**question-9**"
   ]
  },
  {
   "cell_type": "code",
   "execution_count": 28,
   "id": "41fdb263-a340-4f30-9a21-4a89b7d188ae",
   "metadata": {},
   "outputs": [
    {
     "name": "stdin",
     "output_type": "stream",
     "text": [
      "enter the number 75\n"
     ]
    },
    {
     "name": "stdout",
     "output_type": "stream",
     "text": [
      "1 is factor of 75\n",
      "3 is factor of 75\n",
      "5 is factor of 75\n",
      "15 is factor of 75\n",
      "25 is factor of 75\n",
      "75 is factor of 75\n",
      "the total factors of 75 is 6\n"
     ]
    }
   ],
   "source": [
    "i=1\n",
    "n=0\n",
    "num=eval(input(\"enter the number\"))\n",
    "while i<76:\n",
    "    if num%i==0:\n",
    "        print(f\"{i} is factor of {num}\")\n",
    "        n=n+1\n",
    "    i=i+1\n",
    "print(f\"the total factors of {num} is {n}\")"
   ]
  },
  {
   "cell_type": "code",
   "execution_count": null,
   "id": "5bd87907-ba4f-46b2-9d0d-cdb1c6fd92cf",
   "metadata": {},
   "outputs": [],
   "source": [
    "**question-10**"
   ]
  },
  {
   "cell_type": "code",
   "execution_count": 29,
   "id": "1d8f2e8a-c14f-43ce-8329-8ed97dc00226",
   "metadata": {},
   "outputs": [],
   "source": [
    "import random"
   ]
  },
  {
   "cell_type": "code",
   "execution_count": 10,
   "id": "50492952-3ddd-416b-b4cc-83d22006899c",
   "metadata": {},
   "outputs": [
    {
     "name": "stdout",
     "output_type": "stream",
     "text": [
      "2\n"
     ]
    },
    {
     "name": "stdin",
     "output_type": "stream",
     "text": [
      "enter the number 4\n"
     ]
    },
    {
     "name": "stdout",
     "output_type": "stream",
     "text": [
      "you fail\n",
      "you have only 2 chance left\n",
      "7\n"
     ]
    },
    {
     "name": "stdin",
     "output_type": "stream",
     "text": [
      "enter the number 2\n"
     ]
    },
    {
     "name": "stdout",
     "output_type": "stream",
     "text": [
      "you fail\n",
      "you have only 1 chance left\n",
      "4\n"
     ]
    },
    {
     "name": "stdin",
     "output_type": "stream",
     "text": [
      "enter the number 3\n"
     ]
    },
    {
     "name": "stdout",
     "output_type": "stream",
     "text": [
      "you fail\n",
      "you have only 0 chance left\n",
      "try again after 24 hours\n"
     ]
    }
   ],
   "source": [
    "import random\n",
    "i = 0\n",
    "count = 3\n",
    "while i<3:\n",
    "    num1=random.randint(1,10)\n",
    "    print(num1)\n",
    "    num2=eval(input(\"enter the number\"))\n",
    "    i = i+1\n",
    "    if num1==num2:\n",
    "        print(\"you won\")\n",
    "        break\n",
    "    else:\n",
    "        print(\"you fail\")\n",
    "    print(f\"you have only {count-i} chance left\")\n",
    "print(\"try again after 24 hours\") \n"
   ]
  },
  {
   "cell_type": "code",
   "execution_count": null,
   "id": "85b7c9d0-fbaf-4017-895b-44ad06ec86c1",
   "metadata": {},
   "outputs": [],
   "source": [
    "**question-11**"
   ]
  },
  {
   "cell_type": "code",
   "execution_count": 4,
   "id": "643c6423-f7f0-4cc8-b02b-170c72d78aeb",
   "metadata": {},
   "outputs": [
    {
     "name": "stdin",
     "output_type": "stream",
     "text": [
      "enter the number 3\n"
     ]
    },
    {
     "name": "stdout",
     "output_type": "stream",
     "text": [
      "it is odd number\n"
     ]
    },
    {
     "name": "stdin",
     "output_type": "stream",
     "text": [
      "enter the number 3\n"
     ]
    },
    {
     "name": "stdout",
     "output_type": "stream",
     "text": [
      "it is odd number\n"
     ]
    },
    {
     "name": "stdin",
     "output_type": "stream",
     "text": [
      "enter the number 3\n"
     ]
    },
    {
     "name": "stdout",
     "output_type": "stream",
     "text": [
      "it is odd number\n"
     ]
    },
    {
     "name": "stdin",
     "output_type": "stream",
     "text": [
      "enter the number 3\n"
     ]
    },
    {
     "name": "stdout",
     "output_type": "stream",
     "text": [
      "it is odd number\n"
     ]
    },
    {
     "name": "stdin",
     "output_type": "stream",
     "text": [
      "enter the number 4\n"
     ]
    },
    {
     "name": "stdout",
     "output_type": "stream",
     "text": [
      "it is even number\n",
      "the total even count is 1\n",
      "the total odd count is 4\n"
     ]
    }
   ],
   "source": [
    "#wap ask the user get 5 random numbers\n",
    "#get it is an even number or odd number\n",
    "#also count how many even numbers there\n",
    "#and count how many odd numbers are there\n",
    "import random\n",
    "even_count=0\n",
    "odd_count=0\n",
    "i=1\n",
    "while i<6:\n",
    "    num=eval(input(\"enter the number\"))\n",
    "    if num%2==0:\n",
    "        print(\"it is even number\")\n",
    "        even_count= even_count+1\n",
    "        #print(f\"the even count is {even_count}\")\n",
    "        i=i+1\n",
    "    else:\n",
    "         print(\"it is odd number\")\n",
    "         odd_count= odd_count+1\n",
    "         #print(f\"the odd count is {odd_count}\")\n",
    "         i=i+1\n",
    "print(f\"the total even count is {even_count}\")\n",
    "print(f\"the total odd count is {odd_count}\")"
   ]
  },
  {
   "cell_type": "code",
   "execution_count": null,
   "id": "a2fa4e5b-c26b-4899-aa9e-d28551c48374",
   "metadata": {},
   "outputs": [],
   "source": [
    "**question-12**"
   ]
  },
  {
   "cell_type": "code",
   "execution_count": 13,
   "id": "bbe2202b-0239-4d26-99b3-68063ea2a5b3",
   "metadata": {},
   "outputs": [
    {
     "name": "stdin",
     "output_type": "stream",
     "text": [
      "enter the number 4\n"
     ]
    },
    {
     "name": "stdout",
     "output_type": "stream",
     "text": [
      "it is even number\n"
     ]
    },
    {
     "name": "stdin",
     "output_type": "stream",
     "text": [
      "enter the number 3\n"
     ]
    },
    {
     "name": "stdout",
     "output_type": "stream",
     "text": [
      "it is odd number\n"
     ]
    },
    {
     "name": "stdin",
     "output_type": "stream",
     "text": [
      "enter the number 2\n"
     ]
    },
    {
     "name": "stdout",
     "output_type": "stream",
     "text": [
      "it is even number\n"
     ]
    },
    {
     "name": "stdin",
     "output_type": "stream",
     "text": [
      "enter the number 1\n"
     ]
    },
    {
     "name": "stdout",
     "output_type": "stream",
     "text": [
      "it is odd number\n"
     ]
    },
    {
     "name": "stdin",
     "output_type": "stream",
     "text": [
      "enter the number 2\n"
     ]
    },
    {
     "name": "stdout",
     "output_type": "stream",
     "text": [
      "it is even number\n",
      "the total even count is 3\n",
      "the total odd count is 2\n",
      "the total even sum is 8\n",
      "the total odd sum is 6\n"
     ]
    }
   ],
   "source": [
    "#wap ask the user get 5 random numbers\n",
    "#get it is an even number\n",
    "#also count how many even numbers are there \n",
    "#also count how many odd numbers are there\n",
    "# i want summ even numbers\n",
    "# i want summ odd numbers\n",
    "even_count=0\n",
    "odd_count=0\n",
    "even_summ=0\n",
    "odd_summ=0\n",
    "i=1\n",
    "while i<6:\n",
    "    num=eval(input(\"enter the number\"))\n",
    "    if num%2==0:\n",
    "        print(\"it is even number\")\n",
    "        even_count= even_count+1\n",
    "        #print(f\"the even count is {even_count}\")\n",
    "        even_summ=even_summ+num\n",
    "        #print(f\"the even sum is {even_summ}\")\n",
    "    else:\n",
    "         print(\"it is odd number\")\n",
    "         odd_count= odd_count+1\n",
    "         #print(f\"the odd count is {odd_count}\")=even_summ\n",
    "         odd_summ=odd_summ+i\n",
    "         #print(f\"the odd sum is {odd_summ}\")\n",
    "    i=i+1\n",
    "print(f\"the total even count is {even_count}\")\n",
    "print(f\"the total odd count is {odd_count}\")\n",
    "print(f\"the total even sum is {even_summ}\")\n",
    "print(f\"the total odd sum is {odd_summ}\")\n",
    "\n",
    "\n"
   ]
  },
  {
   "cell_type": "code",
   "execution_count": null,
   "id": "f6c0222c-81c1-4aee-8b24-27fa8e636eb4",
   "metadata": {},
   "outputs": [],
   "source": []
  }
 ],
 "metadata": {
  "kernelspec": {
   "display_name": "Python 3 (ipykernel)",
   "language": "python",
   "name": "python3"
  },
  "language_info": {
   "codemirror_mode": {
    "name": "ipython",
    "version": 3
   },
   "file_extension": ".py",
   "mimetype": "text/x-python",
   "name": "python",
   "nbconvert_exporter": "python",
   "pygments_lexer": "ipython3",
   "version": "3.11.7"
  }
 },
 "nbformat": 4,
 "nbformat_minor": 5
}
