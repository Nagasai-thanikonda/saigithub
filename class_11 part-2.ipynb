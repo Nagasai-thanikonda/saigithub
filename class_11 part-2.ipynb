{
 "cells": [
  {
   "cell_type": "code",
   "execution_count": null,
   "id": "b6e23326-77cc-415d-a046-c227eac33b7e",
   "metadata": {},
   "outputs": [],
   "source": [
    "#what is the meaning of summation wrapper and counter wrapper\n",
    "#summation\n",
    "#counter\n"
   ]
  },
  {
   "cell_type": "code",
   "execution_count": null,
   "id": "9a3f4d67-ba0d-42ad-b9e8-e8e69cd07ada",
   "metadata": {},
   "outputs": [],
   "source": [
    "#wap ask the user get 5 random numbers\n",
    "#get it is an even number or odd number\n",
    "#also count how many even numbers are there\n",
    "#and also count how amny odd numbers ae there\n",
    "\n",
    "\n",
    "#summation\n"
   ]
  },
  {
   "cell_type": "code",
   "execution_count": 1,
   "id": "0aad4fa7-4c94-4638-a668-43dd58d91596",
   "metadata": {},
   "outputs": [],
   "source": [
    "import random"
   ]
  },
  {
   "cell_type": "code",
   "execution_count": 12,
   "id": "838a6239-44d0-4d07-8d7f-e07fe10e43dd",
   "metadata": {},
   "outputs": [
    {
     "name": "stdout",
     "output_type": "stream",
     "text": [
      "it 40 is a even number\n",
      "it 74 is a even number\n",
      "it 95 is a odd number\n",
      "it 78 is a even number\n",
      "it 12 is a even number\n",
      "the total number even numbers :4\n",
      "the total number odd numbers :1\n"
     ]
    }
   ],
   "source": [
    "count1=0\n",
    "count2=0\n",
    "for i in range(5):\n",
    "    num=random.randint(1,100)\n",
    "    if num%2==0:\n",
    "        count1=count1+1\n",
    "        print(f\"it {num} is a even number\")\n",
    "        \n",
    "    else:\n",
    "        count2=count2+1\n",
    "        print(f\"it {num} is a odd number\")\n",
    "print(f\"the total number even numbers :{count1}\")\n",
    "print(f\"the total number odd numbers :{count2}\")"
   ]
  },
  {
   "cell_type": "code",
   "execution_count": 14,
   "id": "4f1a27ba-c321-40b2-84b4-2cb827a514af",
   "metadata": {},
   "outputs": [
    {
     "name": "stdout",
     "output_type": "stream",
     "text": [
      "it 10 is a even number\n",
      "it 2 is a even number\n",
      "it 52 is a even number\n",
      "it 56 is a even number\n",
      "it 52 is a even number\n",
      "the total number even numbers :5\n",
      "the total number odd numbers :0\n",
      "the summation of all even numbers are : 172\n",
      "the  summation of all odd numbers :0\n"
     ]
    }
   ],
   "source": [
    "count1=0\n",
    "count2=0\n",
    "even_sum=0\n",
    "odd_sum=0\n",
    "for i in range(5):\n",
    "    num=random.randint(1,100)\n",
    "    if num%2==0:\n",
    "        count1=count1+1\n",
    "        even_sum=even_sum+num\n",
    "        print(f\"it {num} is a even number\")\n",
    "        \n",
    "    else:\n",
    "        count2=count2+1\n",
    "        odd_sum=odd_sum+num\n",
    "        print(f\"it {num} is a odd number\")\n",
    "print(f\"the total number even numbers :{count1}\")\n",
    "print(f\"the total number odd numbers :{count2}\")\n",
    "print(f\"the summation of all even numbers are : {even_sum}\")\n",
    "print(f\"the  summation of all odd numbers :{odd_sum}\")"
   ]
  },
  {
   "cell_type": "code",
   "execution_count": 17,
   "id": "0710c871-e14e-44e9-9b6e-98f59bfffaaf",
   "metadata": {},
   "outputs": [
    {
     "name": "stdout",
     "output_type": "stream",
     "text": [
      "the total number even numbers :5\n",
      "the total number odd numbers :0\n",
      "the summation of all even numbers are : 172\n",
      "the  summation of all odd numbers :0\n",
      "it 86 is a even number\n"
     ]
    }
   ],
   "source": [
    "def counter(count1,count2,even_sum,odd_sum):\n",
    "    for i in range(5):\n",
    "        num=random.randint(1,100)\n",
    "    if num%2==0:\n",
    "        count1=count1+1\n",
    "        even_sum=even_sum+num\n",
    "        print(f\"it {num} is a even number\")\n",
    "        \n",
    "    else:\n",
    "        count2=count2+1\n",
    "        odd_sum=odd_sum+num\n",
    "        print(f\"it {num} is a odd number\")\n",
    "    return(\n",
    "print(f\"the total number even numbers :{count1}\")\n",
    "print(f\"the total number odd numbers :{count2}\")\n",
    "print(f\"the summation of all even numbers are : {even_sum}\")\n",
    "print(f\"the  summation of all odd numbers :{odd_sum}\")\n",
    "counter(0,0,0,0)\n",
    "    "
   ]
  },
  {
   "cell_type": "markdown",
   "id": "805ab8aa-4757-49b5-8d0c-9c27e39edb7c",
   "metadata": {},
   "source": [
    "**in operator**"
   ]
  },
  {
   "cell_type": "code",
   "execution_count": 19,
   "id": "e14c361b-2b7d-4c14-acf8-f7742c662824",
   "metadata": {},
   "outputs": [
    {
     "ename": "TypeError",
     "evalue": "'in <string>' requires string as left operand, not int",
     "output_type": "error",
     "traceback": [
      "\u001b[1;31m---------------------------------------------------------------------------\u001b[0m",
      "\u001b[1;31mTypeError\u001b[0m                                 Traceback (most recent call last)",
      "Cell \u001b[1;32mIn[19], line 6\u001b[0m\n\u001b[0;32m      3\u001b[0m \u001b[38;5;124m'\u001b[39m\u001b[38;5;124my\u001b[39m\u001b[38;5;124m'\u001b[39m \u001b[38;5;129;01min\u001b[39;00m string1\n\u001b[0;32m      4\u001b[0m \u001b[38;5;124m'\u001b[39m\u001b[38;5;124mt\u001b[39m\u001b[38;5;124m'\u001b[39m \u001b[38;5;129;01min\u001b[39;00m string1\n\u001b[1;32m----> 6\u001b[0m i \u001b[38;5;129;01min\u001b[39;00m string1\n",
      "\u001b[1;31mTypeError\u001b[0m: 'in <string>' requires string as left operand, not int"
     ]
    }
   ],
   "source": [
    "string1='python'\n",
    "'p' in string1\n",
    "'y' in string1\n",
    "'t' in string1\n",
    "\n",
    "i in string1"
   ]
  },
  {
   "cell_type": "code",
   "execution_count": 22,
   "id": "d6e2d0ec-720b-4358-9443-cd8f10d1846a",
   "metadata": {},
   "outputs": [
    {
     "name": "stdout",
     "output_type": "stream",
     "text": [
      "p\n",
      "y\n",
      "t\n",
      "h\n",
      "o\n",
      "n\n"
     ]
    }
   ],
   "source": [
    "string1='python'\n",
    "for i in string1:\n",
    "    print(i)"
   ]
  },
  {
   "cell_type": "markdown",
   "id": "696d3c83-0978-4991-bc76-4b35c5d0935b",
   "metadata": {},
   "source": [
    "**difference between in operator and range operator**\n",
    "-  range belongs to math family\n",
    "- inside $range$ we need to keep numbers only\n",
    "- when ever if we want iterate through a english letters\n",
    "- we need to choice in operator\n",
    "- range means number\n",
    "- in means strings"
   ]
  },
  {
   "cell_type": "code",
   "execution_count": 23,
   "id": "ef01e91e-06dd-4cd3-a3a0-922c63be4bed",
   "metadata": {},
   "outputs": [
    {
     "data": {
      "text/plain": [
       "False"
      ]
     },
     "execution_count": 23,
     "metadata": {},
     "output_type": "execute_result"
    }
   ],
   "source": [
    "'p'>'p'"
   ]
  },
  {
   "cell_type": "markdown",
   "id": "44469c19-23f6-4677-af1e-13f9c13350d2",
   "metadata": {},
   "source": [
    "- every english letter\n",
    "- every spl characters how machine will understand\n",
    "- machine language always consider as numbers only\n",
    "- every non-numeric assign a number\n",
    "- that is a ASCII\n",
    "- ASCII:American Standard code for Information Interchange\n",
    "- A:65,a=97\n"
   ]
  },
  {
   "cell_type": "markdown",
   "id": "58943e56-8670-4892-928c-6d891c383f64",
   "metadata": {},
   "source": [
    "**ord-chr**"
   ]
  },
  {
   "cell_type": "code",
   "execution_count": 26,
   "id": "787a9939-9d57-41dc-92ac-e57056afb317",
   "metadata": {},
   "outputs": [
    {
     "ename": "NameError",
     "evalue": "name 'A' is not defined",
     "output_type": "error",
     "traceback": [
      "\u001b[1;31m---------------------------------------------------------------------------\u001b[0m",
      "\u001b[1;31mNameError\u001b[0m                                 Traceback (most recent call last)",
      "Cell \u001b[1;32mIn[26], line 1\u001b[0m\n\u001b[1;32m----> 1\u001b[0m A \u001b[38;5;241m==\u001b[39m\u001b[38;5;241m65\u001b[39m\n",
      "\u001b[1;31mNameError\u001b[0m: name 'A' is not defined"
     ]
    }
   ],
   "source": [
    "A ==65# ===ob1000001"
   ]
  },
  {
   "cell_type": "code",
   "execution_count": 27,
   "id": "8ec1bf81-2b5b-4cd2-b4f0-07f7808067be",
   "metadata": {},
   "outputs": [
    {
     "data": {
      "text/plain": [
       "(65, 97)"
      ]
     },
     "execution_count": 27,
     "metadata": {},
     "output_type": "execute_result"
    }
   ],
   "source": [
    "ord('A'),ord('a')"
   ]
  },
  {
   "cell_type": "code",
   "execution_count": 32,
   "id": "715b0387-79d7-4530-a8ee-f61b7752f7dc",
   "metadata": {},
   "outputs": [
    {
     "data": {
      "text/plain": [
       "(112, 80)"
      ]
     },
     "execution_count": 32,
     "metadata": {},
     "output_type": "execute_result"
    }
   ],
   "source": [
    "ord('p'),ord('P')"
   ]
  },
  {
   "cell_type": "code",
   "execution_count": 30,
   "id": "c8b40343-0233-4c5b-bb51-1d43a5e85698",
   "metadata": {},
   "outputs": [
    {
     "data": {
      "text/plain": [
       "True"
      ]
     },
     "execution_count": 30,
     "metadata": {},
     "output_type": "execute_result"
    }
   ],
   "source": [
    "'p'>'P'"
   ]
  },
  {
   "cell_type": "code",
   "execution_count": 31,
   "id": "fa7f756b-005e-4b54-ad36-a34fb1f69b07",
   "metadata": {},
   "outputs": [
    {
     "data": {
      "text/plain": [
       "66"
      ]
     },
     "execution_count": 31,
     "metadata": {},
     "output_type": "execute_result"
    }
   ],
   "source": [
    "ord('B')"
   ]
  },
  {
   "cell_type": "code",
   "execution_count": 33,
   "id": "23af1b8a-d414-450e-98f2-72205fb6be55",
   "metadata": {},
   "outputs": [
    {
     "data": {
      "text/plain": [
       "('p', 'P', 'A', 'a')"
      ]
     },
     "execution_count": 33,
     "metadata": {},
     "output_type": "execute_result"
    }
   ],
   "source": [
    "chr(112),chr(80),chr(65),chr(97)"
   ]
  },
  {
   "cell_type": "code",
   "execution_count": 35,
   "id": "8f9a31df-d7d1-4a8d-9ee6-9748e3d025c2",
   "metadata": {},
   "outputs": [
    {
     "name": "stdout",
     "output_type": "stream",
     "text": [
      "the ASCII number for p in 112\n",
      "the ASCII number for y in 121\n",
      "the ASCII number for t in 116\n",
      "the ASCII number for h in 104\n",
      "the ASCII number for o in 111\n",
      "the ASCII number for n in 110\n"
     ]
    }
   ],
   "source": [
    "#I want string1='python'\n",
    "#print all ascii numbers for python\n",
    "for i in 'python':\n",
    "    print(f\"the ASCII number for {i} in {ord(i)}\")"
   ]
  },
  {
   "cell_type": "code",
   "execution_count": 36,
   "id": "d8e1f4d6-4bf8-47ed-bbdd-49137f514efb",
   "metadata": {},
   "outputs": [
    {
     "name": "stdout",
     "output_type": "stream",
     "text": [
      "the summation is 674\n"
     ]
    }
   ],
   "source": [
    "ascii_sum=0\n",
    "for i in 'python':\n",
    "    ascii_sum=ascii_sum+ord(i)\n",
    "print(f\"the summation is {ascii_sum}\")"
   ]
  },
  {
   "cell_type": "code",
   "execution_count": null,
   "id": "05be9768-704c-4525-b67b-c2c1d38ac2f6",
   "metadata": {},
   "outputs": [],
   "source": [
    "# i want to know all ascii numbers Ato Z\n"
   ]
  },
  {
   "cell_type": "code",
   "execution_count": null,
   "id": "8bf38513-3b7d-4981-b1d7-1d96a88edf1f",
   "metadata": {},
   "outputs": [],
   "source": [
    "#package called:string\n",
    "#import the package\n",
    "#apply the dir\n",
    "#there are some methods are there\n",
    "#in that one method will capital letters\n"
   ]
  },
  {
   "cell_type": "code",
   "execution_count": 39,
   "id": "aaa4667f-5ab9-468c-b412-61f0b3bed238",
   "metadata": {},
   "outputs": [],
   "source": [
    "import string"
   ]
  },
  {
   "cell_type": "code",
   "execution_count": 40,
   "id": "b3997296-eb99-4681-ac81-aef131811139",
   "metadata": {},
   "outputs": [
    {
     "data": {
      "text/plain": [
       "['Formatter',\n",
       " 'Template',\n",
       " '_ChainMap',\n",
       " '__all__',\n",
       " '__builtins__',\n",
       " '__cached__',\n",
       " '__doc__',\n",
       " '__file__',\n",
       " '__loader__',\n",
       " '__name__',\n",
       " '__package__',\n",
       " '__spec__',\n",
       " '_re',\n",
       " '_sentinel_dict',\n",
       " '_string',\n",
       " 'ascii_letters',\n",
       " 'ascii_lowercase',\n",
       " 'ascii_uppercase',\n",
       " 'capwords',\n",
       " 'digits',\n",
       " 'hexdigits',\n",
       " 'octdigits',\n",
       " 'printable',\n",
       " 'punctuation',\n",
       " 'whitespace']"
      ]
     },
     "execution_count": 40,
     "metadata": {},
     "output_type": "execute_result"
    }
   ],
   "source": [
    "dir(string)"
   ]
  },
  {
   "cell_type": "code",
   "execution_count": 41,
   "id": "6c38e9ce-4829-46bd-a68e-34ebeae3cc18",
   "metadata": {},
   "outputs": [
    {
     "data": {
      "text/plain": [
       "'ABCDEFGHIJKLMNOPQRSTUVWXYZ'"
      ]
     },
     "execution_count": 41,
     "metadata": {},
     "output_type": "execute_result"
    }
   ],
   "source": [
    "string.ascii_uppercase"
   ]
  },
  {
   "cell_type": "code",
   "execution_count": null,
   "id": "080616c8-36db-45cd-8d91-c5ea4c179988",
   "metadata": {},
   "outputs": [],
   "source": [
    "for i in \"ASCII\":\n",
    "    print("
   ]
  },
  {
   "cell_type": "code",
   "execution_count": 42,
   "id": "fa6601bc-3ec9-4463-8f91-17f3e0d687a0",
   "metadata": {},
   "outputs": [
    {
     "name": "stdout",
     "output_type": "stream",
     "text": [
      "the summation is 361\n"
     ]
    }
   ],
   "source": [
    "ascii_sum=0\n",
    "for i in 'ASCII':\n",
    "    ascii_sum=ascii_sum+ord(i)\n",
    "print(f\"the summation is {ascii_sum}\")"
   ]
  },
  {
   "cell_type": "code",
   "execution_count": 43,
   "id": "19568bfb-2fad-40fb-814f-3286aa5edfc2",
   "metadata": {},
   "outputs": [],
   "source": [
    "import string"
   ]
  },
  {
   "cell_type": "code",
   "execution_count": 44,
   "id": "8aa8251c-eb0a-4ca2-9e10-30cc571b8f96",
   "metadata": {},
   "outputs": [
    {
     "data": {
      "text/plain": [
       "['Formatter',\n",
       " 'Template',\n",
       " '_ChainMap',\n",
       " '__all__',\n",
       " '__builtins__',\n",
       " '__cached__',\n",
       " '__doc__',\n",
       " '__file__',\n",
       " '__loader__',\n",
       " '__name__',\n",
       " '__package__',\n",
       " '__spec__',\n",
       " '_re',\n",
       " '_sentinel_dict',\n",
       " '_string',\n",
       " 'ascii_letters',\n",
       " 'ascii_lowercase',\n",
       " 'ascii_uppercase',\n",
       " 'capwords',\n",
       " 'digits',\n",
       " 'hexdigits',\n",
       " 'octdigits',\n",
       " 'printable',\n",
       " 'punctuation',\n",
       " 'whitespace']"
      ]
     },
     "execution_count": 44,
     "metadata": {},
     "output_type": "execute_result"
    }
   ],
   "source": [
    "dir(string)"
   ]
  },
  {
   "cell_type": "code",
   "execution_count": 45,
   "id": "133af86c-4ab7-45e2-a7c0-6a3bc35c1c9a",
   "metadata": {},
   "outputs": [
    {
     "data": {
      "text/plain": [
       "'ABCDEFGHIJKLMNOPQRSTUVWXYZ'"
      ]
     },
     "execution_count": 45,
     "metadata": {},
     "output_type": "execute_result"
    }
   ],
   "source": [
    "string.ascii_uppercase"
   ]
  },
  {
   "cell_type": "code",
   "execution_count": 47,
   "id": "37c5f002-c5e1-4691-81be-793c50ded609",
   "metadata": {},
   "outputs": [
    {
     "name": "stdout",
     "output_type": "stream",
     "text": [
      "the ASCII numbers for A is 65\n",
      "the ASCII numbers for B is 66\n",
      "the ASCII numbers for C is 67\n",
      "the ASCII numbers for D is 68\n",
      "the ASCII numbers for E is 69\n",
      "the ASCII numbers for F is 70\n",
      "the ASCII numbers for G is 71\n",
      "the ASCII numbers for H is 72\n",
      "the ASCII numbers for I is 73\n",
      "the ASCII numbers for J is 74\n",
      "the ASCII numbers for K is 75\n",
      "the ASCII numbers for L is 76\n",
      "the ASCII numbers for M is 77\n",
      "the ASCII numbers for N is 78\n",
      "the ASCII numbers for O is 79\n",
      "the ASCII numbers for P is 80\n",
      "the ASCII numbers for Q is 81\n",
      "the ASCII numbers for R is 82\n",
      "the ASCII numbers for S is 83\n",
      "the ASCII numbers for T is 84\n",
      "the ASCII numbers for U is 85\n",
      "the ASCII numbers for V is 86\n",
      "the ASCII numbers for W is 87\n",
      "the ASCII numbers for X is 88\n",
      "the ASCII numbers for Y is 89\n",
      "the ASCII numbers for Z is 90\n"
     ]
    }
   ],
   "source": [
    "for i in string.ascii_uppercase:\n",
    "    print(f\"the ASCII numbers for {i} is {ord(i)}\")"
   ]
  },
  {
   "cell_type": "code",
   "execution_count": 49,
   "id": "ff27a4d5-c749-483e-89a7-d0ef3e773b2b",
   "metadata": {},
   "outputs": [
    {
     "name": "stdout",
     "output_type": "stream",
     "text": [
      "the ASCII numbers for A is 65\n",
      "the ASCII numbers for B is 66\n",
      "the ASCII numbers for C is 67\n",
      "the ASCII numbers for D is 68\n",
      "the ASCII numbers for E is 69\n",
      "the ASCII numbers for F is 70\n",
      "the ASCII numbers for G is 71\n",
      "the ASCII numbers for H is 72\n",
      "the ASCII numbers for I is 73\n",
      "the ASCII numbers for J is 74\n",
      "the ASCII numbers for K is 75\n",
      "the ASCII numbers for L is 76\n",
      "the ASCII numbers for M is 77\n",
      "the ASCII numbers for N is 78\n",
      "the ASCII numbers for O is 79\n",
      "the ASCII numbers for P is 80\n",
      "the ASCII numbers for Q is 81\n",
      "the ASCII numbers for R is 82\n",
      "the ASCII numbers for S is 83\n",
      "the ASCII numbers for T is 84\n",
      "the ASCII numbers for U is 85\n",
      "the ASCII numbers for V is 86\n",
      "the ASCII numbers for W is 87\n",
      "the ASCII numbers for X is 88\n",
      "the ASCII numbers for Y is 89\n",
      "the ASCII numbers for Z is 90\n"
     ]
    }
   ],
   "source": [
    "import string\n",
    "letters=string.ascii_uppercase\n",
    "for i in letters:\n",
    "     print(f\"the ASCII numbers for {i} is {ord(i)}\")"
   ]
  },
  {
   "cell_type": "code",
   "execution_count": 56,
   "id": "4ca7c4f3-8122-4c70-9ba2-2c567a8475c4",
   "metadata": {},
   "outputs": [
    {
     "ename": "AttributeError",
     "evalue": "module 'string' has no attribute 'punchivations'",
     "output_type": "error",
     "traceback": [
      "\u001b[1;31m---------------------------------------------------------------------------\u001b[0m",
      "\u001b[1;31mAttributeError\u001b[0m                            Traceback (most recent call last)",
      "Cell \u001b[1;32mIn[56], line 2\u001b[0m\n\u001b[0;32m      1\u001b[0m \u001b[38;5;28;01mimport\u001b[39;00m \u001b[38;5;21;01mstring\u001b[39;00m\n\u001b[1;32m----> 2\u001b[0m letters\u001b[38;5;241m=\u001b[39mstring\u001b[38;5;241m.\u001b[39mpunchivations\n\u001b[0;32m      3\u001b[0m \u001b[38;5;28;01mfor\u001b[39;00m i \u001b[38;5;129;01min\u001b[39;00m letters:\n\u001b[0;32m      4\u001b[0m      \u001b[38;5;28mprint\u001b[39m(\u001b[38;5;124mf\u001b[39m\u001b[38;5;124m\"\u001b[39m\u001b[38;5;124mthe ASCII numbers for \u001b[39m\u001b[38;5;132;01m{\u001b[39;00mi\u001b[38;5;132;01m}\u001b[39;00m\u001b[38;5;124m is \u001b[39m\u001b[38;5;132;01m{\u001b[39;00m\u001b[38;5;28mord\u001b[39m(i)\u001b[38;5;132;01m}\u001b[39;00m\u001b[38;5;124m\"\u001b[39m)\n",
      "\u001b[1;31mAttributeError\u001b[0m: module 'string' has no attribute 'punchivations'"
     ]
    }
   ],
   "source": [
    "import string\n",
    "letters=string.p\n",
    "for i in letters:\n",
    "     print(f\"the ASCII numbers for {i} is {ord(i)}\")"
   ]
  },
  {
   "cell_type": "code",
   "execution_count": 53,
   "id": "f18b8a1b-a73b-4133-9a30-7196442d3d9e",
   "metadata": {},
   "outputs": [
    {
     "name": "stdout",
     "output_type": "stream",
     "text": [
      "33 !==>34 \"==>35 #==>36 $==>37 %==>38 &==>39 '==>40 (==>41 )==>42 *==>43 +==>44 ,==>45 -==>46 .==>47 /==>48 0==>49 1==>50 2==>51 3==>52 4==>53 5==>54 6==>55 7==>56 8==>57 9==>58 :==>59 ;==>60 <==>61 ===>62 >==>63 ?==>64 @==>65 A==>66 B==>67 C==>68 D==>69 E==>70 F==>71 G==>72 H==>73 I==>74 J==>75 K==>76 L==>77 M==>78 N==>79 O==>80 P==>81 Q==>82 R==>83 S==>84 T==>85 U==>86 V==>87 W==>88 X==>89 Y==>90 Z==>91 [==>92 \\==>93 ]==>94 ^==>95 _==>96 `==>97 a==>98 b==>99 c==>100 d==>101 e==>102 f==>103 g==>104 h==>105 i==>106 j==>107 k==>108 l==>109 m==>110 n==>111 o==>112 p==>113 q==>114 r==>115 s==>116 t==>117 u==>118 v==>119 w==>120 x==>121 y==>122 z==>123 {==>124 |==>125 }==>"
     ]
    }
   ],
   "source": [
    "for i in range(33,126):\n",
    "    print(i,chr(i),end='==>')"
   ]
  },
  {
   "cell_type": "code",
   "execution_count": null,
   "id": "5af207ab-f246-4cd9-b166-ada02df50ab1",
   "metadata": {},
   "outputs": [],
   "source": []
  }
 ],
 "metadata": {
  "kernelspec": {
   "display_name": "Python 3 (ipykernel)",
   "language": "python",
   "name": "python3"
  },
  "language_info": {
   "codemirror_mode": {
    "name": "ipython",
    "version": 3
   },
   "file_extension": ".py",
   "mimetype": "text/x-python",
   "name": "python",
   "nbconvert_exporter": "python",
   "pygments_lexer": "ipython3",
   "version": "3.11.7"
  }
 },
 "nbformat": 4,
 "nbformat_minor": 5
}
