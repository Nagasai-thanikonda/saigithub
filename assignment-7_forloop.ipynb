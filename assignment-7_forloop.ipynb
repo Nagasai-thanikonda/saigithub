{
 "cells": [
  {
   "cell_type": "markdown",
   "id": "18d85978-a5df-43d0-ba79-c43fae8d6611",
   "metadata": {},
   "source": [
    "# assignment-7"
   ]
  },
  {
   "cell_type": "markdown",
   "id": "c2a40e4f-1dc0-42b4-9563-87e2e314e177",
   "metadata": {},
   "source": [
    "**question-1**"
   ]
  },
  {
   "cell_type": "code",
   "execution_count": 3,
   "id": "09a42981-198c-48c4-acdc-2603719affb0",
   "metadata": {},
   "outputs": [
    {
     "name": "stdout",
     "output_type": "stream",
     "text": [
      "42 it is even number\n",
      "92 it is even number\n",
      "53 it is odd number\n"
     ]
    }
   ],
   "source": [
    "#take a random number between 1 to 100\n",
    "#print it is a even number and odd number\n",
    "#you need to generate 3 random numbers\n",
    "import random\n",
    "for i in range(3):\n",
    "    num=random.randint(1,100)\n",
    "    if num%2==0:\n",
    "        print(f\"{num} it is even number\")\n",
    "    else:\n",
    "        print(f\"{num} it is odd number\")\n",
    "\n"
   ]
  },
  {
   "cell_type": "markdown",
   "id": "75cc66e1-dae5-4d79-8318-41d13385c267",
   "metadata": {},
   "source": [
    "**question-2**"
   ]
  },
  {
   "cell_type": "code",
   "execution_count": 6,
   "id": "d3680156-b530-4b3a-a676-3d974aa94d8b",
   "metadata": {},
   "outputs": [
    {
     "name": "stdout",
     "output_type": "stream",
     "text": [
      "10 is even\n",
      "11 is odd\n",
      "12 is even\n",
      "13 is odd\n",
      "14 is even\n",
      "15 is odd\n",
      "16 is even\n",
      "17 is odd\n",
      "18 is even\n",
      "19 is odd\n",
      "20 is even\n"
     ]
    }
   ],
   "source": [
    "#wap ask the user print the number is even or odd numbers between 10,20\n",
    "for i in range(10,20+1):\n",
    "    if i%2==0:\n",
    "        print(f\"{i} is even\")\n",
    "    else:\n",
    "        print(f\"{i} is odd\") "
   ]
  },
  {
   "cell_type": "markdown",
   "id": "f02f1b77-c090-407d-9297-6a16cbe27709",
   "metadata": {},
   "source": [
    "**question-3**"
   ]
  },
  {
   "cell_type": "code",
   "execution_count": 8,
   "id": "5b659819-3d36-4921-b623-af267f289dfb",
   "metadata": {},
   "outputs": [
    {
     "name": "stdout",
     "output_type": "stream",
     "text": [
      "20 square is 400\n",
      "21 square is 441\n",
      "22 square is 484\n",
      "23 square is 529\n",
      "24 square is 576\n",
      "25 square is 625\n"
     ]
    }
   ],
   "source": [
    "#wap ask the user print the square of the number between 20 and 25\n",
    "for i in range(20,26):\n",
    "    n=i*i\n",
    "    print(f\"{i} square is {n}\")\n",
    "    "
   ]
  },
  {
   "cell_type": "markdown",
   "id": "2dc7387f-f5e3-423c-8b77-7ab3d70a1bb1",
   "metadata": {},
   "source": [
    "**question-4**"
   ]
  },
  {
   "cell_type": "code",
   "execution_count": 12,
   "id": "71c61fd3-d36f-46ae-b501-c04b69f517cc",
   "metadata": {},
   "outputs": [
    {
     "name": "stdin",
     "output_type": "stream",
     "text": [
      "enter the n7 value 7\n"
     ]
    },
    {
     "name": "stdout",
     "output_type": "stream",
     "text": [
      "the sqaure of 7 is 49\n"
     ]
    },
    {
     "name": "stdin",
     "output_type": "stream",
     "text": [
      "enter the n7 value 9\n"
     ]
    },
    {
     "name": "stdout",
     "output_type": "stream",
     "text": [
      "the sqaure of 9 is 81\n"
     ]
    },
    {
     "name": "stdin",
     "output_type": "stream",
     "text": [
      "enter the n7 value 8\n"
     ]
    },
    {
     "name": "stdout",
     "output_type": "stream",
     "text": [
      "the sqaure of 8 is 64\n"
     ]
    }
   ],
   "source": [
    "#wap ask the user enter number three times find the square of the number\n",
    "#how many times loop should run\n",
    "for i in range(1,4):\n",
    "    n7=eval(input(\"enter the n7 value\"))\n",
    "    square=n7*n7\n",
    "    print(f\"the sqaure of {n7} is {square}\")\n",
    "    "
   ]
  },
  {
   "cell_type": "markdown",
   "id": "d3c7f44b-3371-496e-8b49-de31c12897cb",
   "metadata": {},
   "source": [
    "**question-5**"
   ]
  },
  {
   "cell_type": "code",
   "execution_count": 17,
   "id": "e9409672-7eae-4865-be63-d7f8fc316ea6",
   "metadata": {},
   "outputs": [
    {
     "name": "stdin",
     "output_type": "stream",
     "text": [
      "enter the n2 value 14\n"
     ]
    },
    {
     "name": "stdout",
     "output_type": "stream",
     "text": [
      "14 X 1=14\n",
      "14 X 2=28\n",
      "14 X 3=42\n",
      "14 X 4=56\n",
      "14 X 5=70\n",
      "14 X 6=84\n",
      "14 X 7=98\n",
      "14 X 8=112\n",
      "14 X 9=126\n",
      "14 X 10=140\n"
     ]
    }
   ],
   "source": [
    "#print the 14th table\n",
    "n2=eval(input(\"enter the n2 value\"))\n",
    "for i in range(1,11):\n",
    "    xi=n2*i\n",
    "    print(f\"{n2} X {i}={xi}\")"
   ]
  },
  {
   "cell_type": "markdown",
   "id": "679ce7d0-be25-4e6c-945e-e9bf1a0d2b49",
   "metadata": {},
   "source": [
    "**question-6**"
   ]
  },
  {
   "cell_type": "code",
   "execution_count": 3,
   "id": "47df9cd2-147f-40c1-845e-c49515ed55af",
   "metadata": {},
   "outputs": [
    {
     "name": "stdin",
     "output_type": "stream",
     "text": [
      "enter the n3 value 75\n"
     ]
    },
    {
     "name": "stdout",
     "output_type": "stream",
     "text": [
      "1,3,5,15,25,75,"
     ]
    }
   ],
   "source": [
    "#find the factors of 75\n",
    "#step-1: iterate the loop = which number factor you want\n",
    "#step-2: Apply the if condition\n",
    "# cond=divide the number which each i\n",
    "n3=int(input(\"enter the n3 value\"))\n",
    "for i in range(1,76):\n",
    "    if n3%i==0:\n",
    "       print(i,end=',')\n",
    "\n"
   ]
  },
  {
   "cell_type": "markdown",
   "id": "6c56f589-c858-4a4e-9d9a-ee20a597b61c",
   "metadata": {},
   "source": [
    "**question-7**"
   ]
  },
  {
   "cell_type": "code",
   "execution_count": 25,
   "id": "d8ac5941-6d11-421c-8298-42726eca4701",
   "metadata": {},
   "outputs": [
    {
     "name": "stdout",
     "output_type": "stream",
     "text": [
      "55\n"
     ]
    }
   ],
   "source": [
    "#write the sum of the first 10 natural numbers\n",
    "#1 to 10\n",
    "# 1+2+3+4+5+6+7+8+9+10\n",
    "\n",
    "summ=0\n",
    "for i in range(1,11):\n",
    "    summ=summ+i\n",
    "print(summ)"
   ]
  },
  {
   "cell_type": "code",
   "execution_count": 24,
   "id": "d84ff648-fa5b-4896-8bfc-d8a889f63cd4",
   "metadata": {},
   "outputs": [
    {
     "data": {
      "text/plain": [
       "55"
      ]
     },
     "execution_count": 24,
     "metadata": {},
     "output_type": "execute_result"
    }
   ],
   "source": [
    "summ\n"
   ]
  },
  {
   "cell_type": "markdown",
   "id": "4e7ac3b9-152d-484f-90e4-dc328533820a",
   "metadata": {},
   "source": [
    "**question-8**"
   ]
  },
  {
   "cell_type": "code",
   "execution_count": 33,
   "id": "a578b038-8626-4688-a3e1-d43fecf510a0",
   "metadata": {},
   "outputs": [
    {
     "name": "stdout",
     "output_type": "stream",
     "text": [
      "5.5\n"
     ]
    }
   ],
   "source": [
    "#Average of first 1 to 10 numbers\n",
    "#avg=summation of all the numbers/total number\n",
    "#wap to find the average of 'n' numbers in python\n",
    "summ=0\n",
    "for i in range(1,11):\n",
    "    summ=summ+i\n",
    "#print(summ)\n",
    "avg=summ/10\n",
    "print(avg)"
   ]
  },
  {
   "cell_type": "markdown",
   "id": "f7f5d6a7-03a9-48b6-99cc-7077d2831e96",
   "metadata": {},
   "source": [
    "**question-9**"
   ]
  },
  {
   "cell_type": "code",
   "execution_count": 10,
   "id": "90a2a9ad-7f7c-4c5d-8ebe-17697ca6592f",
   "metadata": {},
   "outputs": [
    {
     "name": "stdin",
     "output_type": "stream",
     "text": [
      "enter the n3 value 75\n"
     ]
    },
    {
     "name": "stdout",
     "output_type": "stream",
     "text": [
      "1 is a factor of 75\n",
      "3 is a factor of 75\n",
      "5 is a factor of 75\n",
      "15 is a factor of 75\n",
      "25 is a factor of 75\n",
      "75 is a factor of 75\n",
      "the total factors are 6\n"
     ]
    }
   ],
   "source": [
    "# find the number of divisiors of 75\n",
    "#ans:1,3,5,15,25,75\n",
    "#number =6\n",
    "#number4=eval(input(\"enter the number4 value\"))\n",
    "n3=eval(input(\"enter the n3 value\"))\n",
    "n=0\n",
    "for i in range(1,76):\n",
    "    if n3%i==0:\n",
    "        print(f\"{i} is a factor of 75\")\n",
    "        n=n+1\n",
    "print(f\"the total factors are {n}\")\n"
   ]
  },
  {
   "cell_type": "markdown",
   "id": "94413eaa-9d35-4df1-992d-5a72bcca2135",
   "metadata": {},
   "source": [
    "**question-10**"
   ]
  },
  {
   "cell_type": "code",
   "execution_count": 2,
   "id": "67aea867-2fa4-4cc4-ae72-e8ae8b411143",
   "metadata": {},
   "outputs": [
    {
     "name": "stdout",
     "output_type": "stream",
     "text": [
      "10\n"
     ]
    },
    {
     "name": "stdin",
     "output_type": "stream",
     "text": [
      "enter the number value 7\n"
     ]
    },
    {
     "name": "stdout",
     "output_type": "stream",
     "text": [
      "you fail\n",
      "you have only 3  chance\n",
      "5\n"
     ]
    },
    {
     "name": "stdin",
     "output_type": "stream",
     "text": [
      "enter the number value 4\n"
     ]
    },
    {
     "name": "stdout",
     "output_type": "stream",
     "text": [
      "you fail\n",
      "you have only 2  chance\n",
      "1\n"
     ]
    },
    {
     "name": "stdin",
     "output_type": "stream",
     "text": [
      "enter the number value 7\n"
     ]
    },
    {
     "name": "stdout",
     "output_type": "stream",
     "text": [
      "you fail\n",
      "you have only 0  chance\n",
      "you fail\n",
      "you have only 0  chance\n",
      "try again after 24 hours\n"
     ]
    }
   ],
   "source": [
    "#get a random number between 1 to 10:num1\n",
    "#ask the user enter the number:num2\n",
    "#if num1 == num2 then print won\n",
    "#else print fail\n",
    "import random\n",
    "count=3\n",
    "for i in range(4):\n",
    "        if count>0:\n",
    "            num1=random.randint(1,10)\n",
    "            print(num1)\n",
    "            num2=eval(input(\"enter the number value\"))\n",
    "            count=count-i\n",
    "        if num1==num2:\n",
    "            print(\"you won\")\n",
    "            break\n",
    "        elif num1!=num2:\n",
    "            print(\"you fail\")\n",
    "            print(f\"you have only {count}  chance\")\n",
    "else:\n",
    "    print(\"try again after 24 hours\")\n",
    "    \n",
    "    "
   ]
  },
  {
   "cell_type": "markdown",
   "id": "6a672ff4-41fb-4e9b-8d97-f2e0371084a2",
   "metadata": {},
   "source": [
    "**question-11**"
   ]
  },
  {
   "cell_type": "code",
   "execution_count": 72,
   "id": "eecf4bc2-c42f-4d41-a857-058446e3642f",
   "metadata": {},
   "outputs": [
    {
     "name": "stdin",
     "output_type": "stream",
     "text": [
      "enter the number 4\n"
     ]
    },
    {
     "name": "stdout",
     "output_type": "stream",
     "text": [
      "4 it is even number\n"
     ]
    },
    {
     "name": "stdin",
     "output_type": "stream",
     "text": [
      "enter the number 7\n"
     ]
    },
    {
     "name": "stdout",
     "output_type": "stream",
     "text": [
      "7 it is odd number\n"
     ]
    },
    {
     "name": "stdin",
     "output_type": "stream",
     "text": [
      "enter the number 9\n"
     ]
    },
    {
     "name": "stdout",
     "output_type": "stream",
     "text": [
      "9 it is odd number\n"
     ]
    },
    {
     "name": "stdin",
     "output_type": "stream",
     "text": [
      "enter the number 5\n"
     ]
    },
    {
     "name": "stdout",
     "output_type": "stream",
     "text": [
      "5 it is odd number\n"
     ]
    },
    {
     "name": "stdin",
     "output_type": "stream",
     "text": [
      "enter the number 3\n"
     ]
    },
    {
     "name": "stdout",
     "output_type": "stream",
     "text": [
      "3 it is odd number\n",
      "total even_count is 1\n",
      "total odd_count is 4\n"
     ]
    }
   ],
   "source": [
    "#wap ask the user get 5 randm numbers\n",
    "#get it is an even numbers or odd number\n",
    "#also count how mny odd numbers are there \n",
    "\n",
    "#idea\n",
    "#take two counters one even and odd count\n",
    "#for for loop 5 times\n",
    "#each time take the random number\n",
    "#if condition\n",
    "#true counter update\n",
    "#else\n",
    "#update the counter\n",
    "import random\n",
    "even_count=0\n",
    "odd_count=0\n",
    "for i in range(5):\n",
    "    n=eval(input(\"enter the number\"))\n",
    "    if n%2==0:\n",
    "        print(f\"{n} it is even number\")\n",
    "        even_count=even_count+1\n",
    "           #print(f\"even number count is {even_count}\")\n",
    "    else:\n",
    "        print(f\"{n} it is odd number\")\n",
    "        odd_count=odd_count+1\n",
    "          #print(f\"odd number count is{odd_count}\")\n",
    "print(f\"total even_count is {even_count}\")\n",
    "print(f\"total odd_count is {odd_count}\")"
   ]
  },
  {
   "cell_type": "markdown",
   "id": "9f25b1a9-7340-46b6-970c-e93cd2f36d83",
   "metadata": {},
   "source": [
    "**question-12**"
   ]
  },
  {
   "cell_type": "code",
   "execution_count": 19,
   "id": "b5ca8fea-ed2b-4634-9d02-adb095885690",
   "metadata": {},
   "outputs": [
    {
     "name": "stdin",
     "output_type": "stream",
     "text": [
      "enter the number 5\n"
     ]
    },
    {
     "name": "stdout",
     "output_type": "stream",
     "text": [
      "odd number count is1\n",
      "the sum of odd numbrs count is 5\n"
     ]
    },
    {
     "name": "stdin",
     "output_type": "stream",
     "text": [
      "enter the number 4\n"
     ]
    },
    {
     "name": "stdout",
     "output_type": "stream",
     "text": [
      "even number count is 1\n",
      "the sum of even numbers count is 4\n"
     ]
    },
    {
     "name": "stdin",
     "output_type": "stream",
     "text": [
      "enter the number 3\n"
     ]
    },
    {
     "name": "stdout",
     "output_type": "stream",
     "text": [
      "odd number count is2\n",
      "the sum of odd numbrs count is 8\n"
     ]
    },
    {
     "name": "stdin",
     "output_type": "stream",
     "text": [
      "enter the number 2\n"
     ]
    },
    {
     "name": "stdout",
     "output_type": "stream",
     "text": [
      "even number count is 2\n",
      "the sum of even numbers count is 6\n"
     ]
    },
    {
     "name": "stdin",
     "output_type": "stream",
     "text": [
      "enter the number 4\n"
     ]
    },
    {
     "name": "stdout",
     "output_type": "stream",
     "text": [
      "even number count is 3\n",
      "the sum of even numbers count is 10\n",
      "total even_count is 3\n",
      "total odd_count is 2\n",
      "the sum of even numbers count is 2\n",
      "the sum of odd numbrs count is 3\n"
     ]
    }
   ],
   "source": [
    "#wp ask the user get 5 random numbers\n",
    "#get it is an even number or odd count\n",
    "#also count how many odd numbers are there\n",
    "#i want summ even number\n",
    "#i want summ odd number\n",
    "import random\n",
    "even_count=0\n",
    "odd_count=0\n",
    "sum_even=0\n",
    "sum_odd=0\n",
    "for i in range(5):\n",
    "    n=eval(input(\"enter the number\"))\n",
    "    if n%2==0:\n",
    "        even_count=even_count+1\n",
    "        print(f\"even number count is {even_count}\")\n",
    "        sum_even=sum_even+n\n",
    "        \n",
    "        print(f\"the sum of even numbers count is {sum_even}\")\n",
    "        \n",
    "    else:\n",
    "        odd_count=odd_count+1\n",
    "        print(f\"odd number count is{odd_count}\")\n",
    "        sum_odd=sum_odd+n\n",
    "        print(f\"the sum of odd numbrs count is {sum_odd}\")\n",
    "print(f\"total even_count is {even_count}\")\n",
    "print(f\"total odd_count is {odd_count}\")\n",
    "print(f\"the sum of even numbers count is {x}\")\n",
    "print(f\"the sum of odd numbrs count is {y}\")"
   ]
  },
  {
   "cell_type": "code",
   "execution_count": null,
   "id": "25381ab2-d1e7-4237-89ae-019a9123260f",
   "metadata": {},
   "outputs": [],
   "source": []
  }
 ],
 "metadata": {
  "kernelspec": {
   "display_name": "Python 3 (ipykernel)",
   "language": "python",
   "name": "python3"
  },
  "language_info": {
   "codemirror_mode": {
    "name": "ipython",
    "version": 3
   },
   "file_extension": ".py",
   "mimetype": "text/x-python",
   "name": "python",
   "nbconvert_exporter": "python",
   "pygments_lexer": "ipython3",
   "version": "3.11.7"
  }
 },
 "nbformat": 4,
 "nbformat_minor": 5
}
